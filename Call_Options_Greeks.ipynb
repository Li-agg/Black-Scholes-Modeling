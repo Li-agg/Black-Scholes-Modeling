{
 "cells": [
  {
   "cell_type": "code",
   "execution_count": 17,
   "metadata": {},
   "outputs": [
    {
     "name": "stdout",
     "output_type": "stream",
     "text": [
      "Black-Scholes price is 1.3537383655181436\n"
     ]
    }
   ],
   "source": [
    "from math import *\n",
    "def normcdf(x):\n",
    "    #'Cumulative distribution function for the standard normal distribution'\n",
    "    return (1.0 + erf(x / sqrt(2.0))) / 2.0\n",
    "\n",
    "def normpdf(x):\n",
    "    return 1/sqrt(2*pi) * exp(- x**2/2)\n",
    "\n",
    "def callBS(S,K,T, sigma, r):\n",
    "    d_plus = ((r + 1/2 * sigma**2) * T - log(K/S))/ (sigma * sqrt(T) )\n",
    "    d_minus = ((r - 1/2 * sigma**2) * T - log(K/S))/ (sigma * sqrt(T) )\n",
    "    return S * normcdf(d_plus) - K * exp(-r*T) * normcdf(d_minus)\n",
    "\n",
    "# Set values for parameters\n",
    "\n",
    "S = 100;\n",
    "K = 110;\n",
    "T = 1;\n",
    "sigma = 0.1;\n",
    "r = 0.02;\n",
    "\n",
    "print(\"Black-Scholes price is \" + str(callBS(S,K,T,sigma,r)))"
   ]
  },
  {
   "cell_type": "code",
   "execution_count": 16,
   "metadata": {},
   "outputs": [
    {
     "name": "stdout",
     "output_type": "stream",
     "text": [
      "Difference in deltas 1.5718066095904426e-07\n",
      "Difference in vegas 0.0008796030472062455\n",
      "Difference in rhos 0.0014441797049933314\n",
      "Difference in gammas 0.00021294318716238297\n"
     ]
    }
   ],
   "source": [
    "# Compare values of different Greeks using numerical differentiation versus theoretical results\n",
    "\n",
    "d_plus = ((r + 1/2 * sigma**2) * T - log(K/S))/ (sigma * sqrt(T) );\n",
    "d_minus = ((r - 1/2 * sigma**2) * T - log(K/S))/ (sigma * sqrt(T) );\n",
    "d=0.00001\n",
    "delta_numerical = 1/d * (callBS(S+d, K,T,sigma,r) - callBS(S, K,T,sigma,r))\n",
    "delta_theoretical = normcdf(d_plus)\n",
    "\n",
    "print(\"Difference in deltas \" + str(abs(delta_numerical - delta_theoretical)))\n",
    "\n",
    "vega_numerical = 1/d * (callBS(S, K,T,sigma+d,r) - callBS(S, K,T,sigma,r))\n",
    "vega_theoretical1 = K*exp(-r*T)*normpdf(d_minus)*sqrt(T)\n",
    "vega_theoretical2 = S*normpdf(d_plus)*sqrt(T)\n",
    "\n",
    "print(\"Difference in vegas \" + str(abs(vega_numerical - vega_theoretical1)))\n",
    "\n",
    "rho_numerical = 1/d * (callBS(S, K,T,sigma,r + d) - callBS(S, K,T,sigma,r))\n",
    "rho_theoretical = K*T*exp(-r*T)*normcdf(d_minus)\n",
    "\n",
    "print(\"Difference in rhos \" + str(abs(rho_numerical - rho_theoretical)))\n",
    "\n",
    "gamma_numerical = 1/d**2*(callBS(S+d, K,T,sigma,r) -  2* callBS(S, K,T,sigma,r) + callBS(S-d, K,T,sigma,r) )\n",
    "gamma_theoretical = normpdf(d_plus)/(sigma*sqrt(T)*S)\n",
    "\n",
    "print(\"Difference in gammas \" + str(abs(gamma_numerical - gamma_theoretical)))"
   ]
  },
  {
   "cell_type": "code",
   "execution_count": 18,
   "metadata": {},
   "outputs": [
    {
     "data": {
      "text/plain": [
       "0.2879117791101421"
      ]
     },
     "execution_count": 18,
     "metadata": {},
     "output_type": "execute_result"
    }
   ],
   "source": [
    "normcdf(-sqrt(2/(exp(2)-1)))"
   ]
  },
  {
   "cell_type": "code",
   "execution_count": null,
   "metadata": {},
   "outputs": [],
   "source": []
  }
 ],
 "metadata": {
  "kernelspec": {
   "display_name": "Python 3",
   "language": "python",
   "name": "python3"
  },
  "language_info": {
   "codemirror_mode": {
    "name": "ipython",
    "version": 3
   },
   "file_extension": ".py",
   "mimetype": "text/x-python",
   "name": "python",
   "nbconvert_exporter": "python",
   "pygments_lexer": "ipython3",
   "version": "3.8.5"
  }
 },
 "nbformat": 4,
 "nbformat_minor": 4
}

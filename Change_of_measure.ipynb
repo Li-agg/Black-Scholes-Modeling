{
 "cells": [
  {
   "cell_type": "code",
   "execution_count": 23,
   "metadata": {},
   "outputs": [
    {
     "name": "stdout",
     "output_type": "stream",
     "text": [
      "0.6959991286665373\n",
      "0.691462461274013\n"
     ]
    }
   ],
   "source": [
    "from math import *\n",
    "import numpy as np\n",
    "\n",
    "T = 1 # terminal time\n",
    "n = 10000 # number of simulations\n",
    "\n",
    "x = 0.5\n",
    "theta = 0.3\n",
    "\n",
    "def normcdf(x):\n",
    "    #'Cumulative distribution function for the standard normal distribution'\n",
    "    return (1.0 + erf(x / sqrt(2.0))) / 2.0\n",
    "\n",
    "sum = 0\n",
    "for i in range(n):\n",
    "    W_T = np.random.normal(0,np.sqrt(T))     \n",
    "    Z = np.exp(-0.5*theta**2*T - theta*W_T)\n",
    "    if (W_T + theta * T <= x):\n",
    "        sum += Z\n",
    "\n",
    "print(sum/n)\n",
    "print(normcdf(x/np.sqrt(T)))"
   ]
  },
  {
   "cell_type": "code",
   "execution_count": null,
   "metadata": {},
   "outputs": [],
   "source": []
  }
 ],
 "metadata": {
  "kernelspec": {
   "display_name": "Python 3",
   "language": "python",
   "name": "python3"
  },
  "language_info": {
   "codemirror_mode": {
    "name": "ipython",
    "version": 3
   },
   "file_extension": ".py",
   "mimetype": "text/x-python",
   "name": "python",
   "nbconvert_exporter": "python",
   "pygments_lexer": "ipython3",
   "version": "3.8.5"
  }
 },
 "nbformat": 4,
 "nbformat_minor": 4
}

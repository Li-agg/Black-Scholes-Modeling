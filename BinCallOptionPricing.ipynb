{
 "cells": [
  {
   "cell_type": "code",
   "execution_count": 31,
   "metadata": {},
   "outputs": [
    {
     "name": "stdout",
     "output_type": "stream",
     "text": [
      "26.385711783510367\n"
     ]
    }
   ],
   "source": [
    "import numpy as np\n",
    "\n",
    "N = 10000 # number of samples\n",
    "n = 2 # number of steps\n",
    "dt = 0.1 # step size\n",
    "sigma =0.8 # volatility\n",
    "u = np.exp(sigma*np.sqrt(dt)) # up return\n",
    "d = 1/u # down return\n",
    "S0 = 100 # initial stock price\n",
    "r = 0.01 # interest rate\n",
    "\n",
    "K = 80 # strike\n",
    "\n",
    "q = (np.exp(r*dt) - d)/(u-d) # risk neutral probability\n",
    "\n",
    "U = np.random.binomial(n, q, N) # result of flipping a coin n times, with  N samples of size n\n",
    "S = S0*u**U*d**(n-U)\n",
    "V = np.exp(-r*dt*n)*np.sum(np.maximum(S-K,0))/N\n",
    "print(V)\n"
   ]
  },
  {
   "cell_type": "code",
   "execution_count": 26,
   "metadata": {},
   "outputs": [
    {
     "data": {
      "text/plain": [
       "8.966083056849746"
      ]
     },
     "execution_count": 26,
     "metadata": {},
     "output_type": "execute_result"
    }
   ],
   "source": [
    "np.exp(-r*dt*n)*(q**2*np.maximum(u**2*S0-K,0)+2*q*(1-q)*np.maximum(S0-K,0)+(1-q)**2*np.maximum(d**2*S0-K,0))"
   ]
  },
  {
   "cell_type": "code",
   "execution_count": 32,
   "metadata": {},
   "outputs": [
    {
     "name": "stdout",
     "output_type": "stream",
     "text": [
      "6.207297231061705\n"
     ]
    }
   ],
   "source": [
    "import numpy as np\n",
    "\n",
    "N = 10000 # number of samples\n",
    "n = 2 # number of steps\n",
    "dt = 0.1 # step size\n",
    "sigma =0.8 # volatility\n",
    "u = np.exp(sigma*np.sqrt(dt)) # up return\n",
    "d = 1/u # down return\n",
    "S0 = 100 # initial stock price\n",
    "r = 0.01 # interest rate\n",
    "\n",
    "K = 100 # strike\n",
    "\n",
    "q = (np.exp(r*dt) - d)/(u-d) # risk neutral probability\n",
    "\n",
    "U = np.random.binomial(n, q, N) # result of flipping a coin n times, with  N samples of size n\n",
    "S = S0*u**U*d**(n-U)\n",
    "V = np.exp(-r*dt*n)*np.sum(np.maximum(K-S,0))/N\n",
    "print(V)\n"
   ]
  },
  {
   "cell_type": "code",
   "execution_count": 36,
   "metadata": {},
   "outputs": [
    {
     "name": "stdout",
     "output_type": "stream",
     "text": [
      "19.761397900733236\n"
     ]
    }
   ],
   "source": [
    "import numpy as np\n",
    "\n",
    "N = 1000000 # number of samples\n",
    "n = 2 # number of steps\n",
    "dt = 0.1 # step size\n",
    "sigma =0.8 # volatility\n",
    "u = np.exp(sigma*np.sqrt(dt)) # up return\n",
    "d = 1/u # down return\n",
    "S0 = 100 # initial stock price\n",
    "r = 0.01 # interest rate\n",
    "\n",
    "K = 100 # strike\n",
    "\n",
    "q = (np.exp(r*dt) - d)/(u-d) # risk neutral probability\n",
    "\n",
    "U1 = np.random.binomial(1, q, N)\n",
    "U2 = np.random.binomial(1, q, N)# result of flipping a coin n times, with  N samples of size n\n",
    "S1 = S0*u**U1*d**(1-U1)\n",
    "S2 = S0*u**(U1+U2)*d**(2-U1-U2)\n",
    "V = np.exp(-r*dt*n)*np.sum(np.maximum(np.maximum(S1,S2)-K,0))/N\n",
    "print(V)\n"
   ]
  },
  {
   "cell_type": "code",
   "execution_count": null,
   "metadata": {},
   "outputs": [],
   "source": []
  }
 ],
 "metadata": {
  "kernelspec": {
   "display_name": "Python 3",
   "language": "python",
   "name": "python3"
  },
  "language_info": {
   "codemirror_mode": {
    "name": "ipython",
    "version": 3
   },
   "file_extension": ".py",
   "mimetype": "text/x-python",
   "name": "python",
   "nbconvert_exporter": "python",
   "pygments_lexer": "ipython3",
   "version": "3.8.5"
  }
 },
 "nbformat": 4,
 "nbformat_minor": 4
}

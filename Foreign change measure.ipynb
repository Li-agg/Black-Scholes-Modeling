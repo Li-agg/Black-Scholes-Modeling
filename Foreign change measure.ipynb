{
 "cells": [
  {
   "cell_type": "code",
   "execution_count": 4,
   "metadata": {},
   "outputs": [
    {
     "name": "stdout",
     "output_type": "stream",
     "text": [
      "Expectation of 1/dt* dSt/St is  6.0152\n",
      "mu is  6\n",
      "Expectation of 1/dt* dQt/Qt is  3.9949\n",
      "gamma is  4\n",
      " 1/dt* Var(dSt/St) is  0.0009\n",
      "sigma_1 squared is  0.0009\n",
      " 1/dt* Var(dQt/Qt) is  0.0004\n",
      "sigma_2 squared is  0.0004\n",
      " 1/dt* Cov(dSt/St,dQt/Qt) is  -0.0002\n",
      "rho*sigma_1*sigma_2 squared is  -0.0002\n",
      " Cor(dSt/St,dQt/Qt) is  -0.2947\n",
      "rho is  -0.3\n"
     ]
    }
   ],
   "source": [
    "#Problem 1\n",
    "\n",
    "import numpy as np\n",
    "from matplotlib import pyplot as plt\n",
    "\n",
    "S_0 = 100\n",
    "Q_0 = 5\n",
    "mu = 6\n",
    "gamma = 4\n",
    "sigma_1 = 0.03\n",
    "sigma_2 = 0.02\n",
    "rho = - 0.3\n",
    "\n",
    "T = 1\n",
    "n  = 100000\n",
    "dt = T / n\n",
    "\n",
    "dW_1 = np.random.normal(0, np.sqrt(dt), n)\n",
    "dW_2 = np.random.normal(0, np.sqrt(dt), n)\n",
    "\n",
    "dS = np.zeros(n)\n",
    "dQ= np.zeros(n)\n",
    "\n",
    "S = np.zeros(n+1)\n",
    "Q = np.zeros(n+1)\n",
    "S[0] = S_0\n",
    "Q[0] = Q_0\n",
    "\n",
    "for i in range(n):\n",
    "    S[i+1] = S[i]*(1 + mu*dt + sigma_1*dW_1[i])\n",
    "    Q[i+1] = Q[i]*(1 + gamma*dt + sigma_2*(rho*dW_1[i]+np.sqrt(1-rho**2)*dW_2[i]))\n",
    "    dS[i] = S[i+1]-S[i]\n",
    "    dQ[i] = Q[i+1]- Q[i]\n",
    "\n",
    "S_return = np.divide(dS,S[:-1])\n",
    "Q_return = np.divide(dQ,Q[:-1])\n",
    "print(\"Expectation of 1/dt* dSt/St is \", \"{0:.4f}\".format(np.mean(S_return)/dt))\n",
    "print(\"mu is \", mu)\n",
    "print(\"Expectation of 1/dt* dQt/Qt is \", \"{0:.4f}\".format(np.mean(Q_return)/dt))\n",
    "print(\"gamma is \", gamma)\n",
    "print(\" 1/dt* Var(dSt/St) is \", \"{0:.4f}\".format(np.var(S_return)/dt))\n",
    "print(\"sigma_1 squared is \", sigma_1**2)\n",
    "print(\" 1/dt* Var(dQt/Qt) is \", \"{0:.4f}\".format(np.var(Q_return)/dt))\n",
    "print(\"sigma_2 squared is \", sigma_2**2)\n",
    "print(\" 1/dt* Cov(dSt/St,dQt/Qt) is \", \"{0:.4f}\".format(np.cov(S_return,Q_return)[0,1]/dt))\n",
    "print(\"rho*sigma_1*sigma_2 squared is \",  \"{0:.4f}\".format(rho*sigma_1*sigma_2))\n",
    "print(\" Cor(dSt/St,dQt/Qt) is \", \"{0:.4f}\".format(np.corrcoef(S_return,Q_return)[0,1]))    \n",
    "print(\"rho is \",  rho)"
   ]
  },
  {
   "cell_type": "code",
   "execution_count": 5,
   "metadata": {},
   "outputs": [
    {
     "name": "stdout",
     "output_type": "stream",
     "text": [
      "The Monte Carlo simulation price is  0.3828981839560078\n",
      "The Black-Scholes price is  0.3811098735689527\n"
     ]
    }
   ],
   "source": [
    "#Problem 2\n",
    "\n",
    "from math import *\n",
    "\n",
    "S_0 = 100\n",
    "Q_0 = 5\n",
    "mu = 0.03\n",
    "gamma = 0.02\n",
    "sigma_1 = 0.3\n",
    "sigma_2 = 0.2\n",
    "rho = - 0.3\n",
    "r = 0.01\n",
    "r_f = 0.015\n",
    "K = 5\n",
    "\n",
    "N = 100000\n",
    "\n",
    "def normcdf(x):\n",
    "    #'Cumulative distribution function for the standard normal distribution'\n",
    "    return (1.0 + erf(x / sqrt(2.0))) / 2.0\n",
    "\n",
    "def normpdf(x):\n",
    "    return 1/sqrt(2*pi) * exp(- x**2/2)\n",
    "\n",
    "def callBS(S,K,T, sigma, r):\n",
    "    d_plus = ((r + 1/2 * sigma**2) * T - log(K/S))/ (sigma * sqrt(T) )\n",
    "    d_minus = ((r - 1/2 * sigma**2) * T - log(K/S))/ (sigma * sqrt(T) )\n",
    "    return S * normcdf(d_plus) - K * exp(-r*T) * normcdf(d_minus)\n",
    "\n",
    "expectation = 0\n",
    "for i in range(N):\n",
    "    Q = Q_0*np.exp( (r - r_f - 0.5*sigma_2**2)*T + sigma_2*np.random.normal(0,np.sqrt(T)))\n",
    "    expectation += max(Q - K,0)\n",
    "\n",
    "print(\"The Monte Carlo simulation price is \", exp(-r*T)*expectation / N)\n",
    "print(\"The Black-Scholes price is \", exp(-r_f*T)*callBS(Q_0, K, T, sigma_2, r - r_f))\n",
    "    "
   ]
  },
  {
   "cell_type": "code",
   "execution_count": 6,
   "metadata": {},
   "outputs": [
    {
     "name": "stdout",
     "output_type": "stream",
     "text": [
      "Pay off of call option on Q with strike K is  1.6465\n",
      "Pay off of K shares of put option on 1/Q with strike 1/K is  1.6465\n",
      "-----------------------------------------\n",
      "Pay off of call option on Q with strike K is  0.0000\n",
      "Pay off of K shares of put option on 1/Q with strike 1/K is  0.0000\n",
      "-----------------------------------------\n",
      "Pay off of call option on Q with strike K is  0.0000\n",
      "Pay off of K shares of put option on 1/Q with strike 1/K is  0.0000\n",
      "-----------------------------------------\n",
      "Pay off of call option on Q with strike K is  0.0000\n",
      "Pay off of K shares of put option on 1/Q with strike 1/K is  0.0000\n",
      "-----------------------------------------\n",
      "Pay off of call option on Q with strike K is  0.0000\n",
      "Pay off of K shares of put option on 1/Q with strike 1/K is  0.0000\n",
      "-----------------------------------------\n",
      "Pay off of call option on Q with strike K is  0.0000\n",
      "Pay off of K shares of put option on 1/Q with strike 1/K is  0.0000\n",
      "-----------------------------------------\n",
      "Pay off of call option on Q with strike K is  0.1976\n",
      "Pay off of K shares of put option on 1/Q with strike 1/K is  0.1976\n",
      "-----------------------------------------\n",
      "Pay off of call option on Q with strike K is  0.9840\n",
      "Pay off of K shares of put option on 1/Q with strike 1/K is  0.9840\n",
      "-----------------------------------------\n",
      "Pay off of call option on Q with strike K is  0.7224\n",
      "Pay off of K shares of put option on 1/Q with strike 1/K is  0.7224\n",
      "-----------------------------------------\n",
      "Pay off of call option on Q with strike K is  0.1338\n",
      "Pay off of K shares of put option on 1/Q with strike 1/K is  0.1338\n",
      "-----------------------------------------\n"
     ]
    }
   ],
   "source": [
    "#Problem 3\n",
    "\n",
    "K_f = 1/5\n",
    "n = 10\n",
    "for i in range(n):\n",
    "    Q = Q_0*np.exp( (r - r_f - 0.5*sigma_2**2)*T + sigma_2*np.random.normal(0,np.sqrt(T)))\n",
    "    print(\"Pay off of call option on Q with strike K is \",  \"{0:.4f}\".format(max(Q - K,0)))\n",
    "    print(\"Pay off of K shares of put option on 1/Q with strike 1/K is \",  \"{0:.4f}\".format(K*Q*max(1/K - 1/Q,0)))\n",
    "    print(\"-----------------------------------------\")"
   ]
  },
  {
   "cell_type": "code",
   "execution_count": null,
   "metadata": {},
   "outputs": [],
   "source": []
  }
 ],
 "metadata": {
  "kernelspec": {
   "display_name": "Python 3",
   "language": "python",
   "name": "python3"
  },
  "language_info": {
   "codemirror_mode": {
    "name": "ipython",
    "version": 3
   },
   "file_extension": ".py",
   "mimetype": "text/x-python",
   "name": "python",
   "nbconvert_exporter": "python",
   "pygments_lexer": "ipython3",
   "version": "3.8.5"
  }
 },
 "nbformat": 4,
 "nbformat_minor": 4
}
